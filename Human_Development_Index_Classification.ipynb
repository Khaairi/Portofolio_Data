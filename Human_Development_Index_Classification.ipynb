{
 "cells": [
  {
   "cell_type": "markdown",
   "id": "de2f27cb",
   "metadata": {},
   "source": [
    "# Mochamad Khaairi (2106416)\n",
    "\n",
    "C2 2021\n",
    "\n",
    "Selasa, 03-01-2023"
   ]
  },
  {
   "cell_type": "markdown",
   "id": "b0d91f22",
   "metadata": {},
   "source": [
    "Deskripsi Soal\n",
    "IPM (Indeks Pembangunan Manusia) adalah ukuran kualitas sumber daya manusia. PMI memiliki tiga dimensi: (1) umur panjang dan hidup sehat (a long and healthy life), (2) pengetahuan (knowledge), dan (3) standar hidup layak (decent standard of living).  PMI dihitung menggunakan data harapan hidup, rata-rata lama sekolah, pengeluaran per kapita.\n",
    "\n",
    "Asumsikan kategorisasi PMI adalah sebagai berikut:  <60: sangat rendah; 60 < pmi < 70: sedang; 70 < pmi < 80: rendah; >80 sangat tinggi.\n",
    "\n",
    "Anda diminta memprediksi tingkat PMI per provinsi tanpa menggunakan data yang dapat digunakan untuk menghitung langsung (data proksi). Model ini bermanfaat untuk pengecekan silang dan dapat digunakan jika data yang diperlukan tidak tersedia."
   ]
  },
  {
   "cell_type": "code",
   "execution_count": 1,
   "id": "bd7034fb",
   "metadata": {},
   "outputs": [],
   "source": [
    "import pandas as pd\n",
    "import numpy as np\n",
    "import seaborn as sns\n",
    "import matplotlib.pyplot as plt"
   ]
  },
  {
   "cell_type": "markdown",
   "id": "dd2504c6",
   "metadata": {},
   "source": [
    "### EDA (Exploratory Data Analysis) dan Prarposes"
   ]
  },
  {
   "cell_type": "markdown",
   "id": "7af4c01d",
   "metadata": {},
   "source": [
    "#### Data pangan"
   ]
  },
  {
   "cell_type": "markdown",
   "id": "d9e06ab8",
   "metadata": {},
   "source": [
    "digunakan data ketidak cukupan pangan untuk mengukur angka harapan hidup"
   ]
  },
  {
   "cell_type": "code",
   "execution_count": 2,
   "id": "a65bed70",
   "metadata": {},
   "outputs": [],
   "source": [
    "df_pangan = pd.read_csv(\"D:/Kuliah/UPI/SEMESTER 3/Data Mining dan Warehouse/UAS/ketidak_cukupan_pangan_prov.csv\")"
   ]
  },
  {
   "cell_type": "code",
   "execution_count": 3,
   "id": "9ac762af",
   "metadata": {},
   "outputs": [
    {
     "data": {
      "text/html": [
       "<div>\n",
       "<style scoped>\n",
       "    .dataframe tbody tr th:only-of-type {\n",
       "        vertical-align: middle;\n",
       "    }\n",
       "\n",
       "    .dataframe tbody tr th {\n",
       "        vertical-align: top;\n",
       "    }\n",
       "\n",
       "    .dataframe thead th {\n",
       "        text-align: right;\n",
       "    }\n",
       "</style>\n",
       "<table border=\"1\" class=\"dataframe\">\n",
       "  <thead>\n",
       "    <tr style=\"text-align: right;\">\n",
       "      <th></th>\n",
       "      <th>prov</th>\n",
       "    </tr>\n",
       "  </thead>\n",
       "  <tbody>\n",
       "    <tr>\n",
       "      <th>count</th>\n",
       "      <td>175</td>\n",
       "    </tr>\n",
       "    <tr>\n",
       "      <th>unique</th>\n",
       "      <td>35</td>\n",
       "    </tr>\n",
       "    <tr>\n",
       "      <th>top</th>\n",
       "      <td>ACEH</td>\n",
       "    </tr>\n",
       "    <tr>\n",
       "      <th>freq</th>\n",
       "      <td>5</td>\n",
       "    </tr>\n",
       "  </tbody>\n",
       "</table>\n",
       "</div>"
      ],
      "text/plain": [
       "        prov\n",
       "count    175\n",
       "unique    35\n",
       "top     ACEH\n",
       "freq       5"
      ]
     },
     "execution_count": 3,
     "metadata": {},
     "output_type": "execute_result"
    }
   ],
   "source": [
    "df_pangan.describe(include=('object'))"
   ]
  },
  {
   "cell_type": "code",
   "execution_count": 4,
   "id": "97389f9a",
   "metadata": {},
   "outputs": [
    {
     "data": {
      "text/html": [
       "<div>\n",
       "<style scoped>\n",
       "    .dataframe tbody tr th:only-of-type {\n",
       "        vertical-align: middle;\n",
       "    }\n",
       "\n",
       "    .dataframe tbody tr th {\n",
       "        vertical-align: top;\n",
       "    }\n",
       "\n",
       "    .dataframe thead th {\n",
       "        text-align: right;\n",
       "    }\n",
       "</style>\n",
       "<table border=\"1\" class=\"dataframe\">\n",
       "  <thead>\n",
       "    <tr style=\"text-align: right;\">\n",
       "      <th></th>\n",
       "      <th>tahun</th>\n",
       "      <th>pct_tdk_cukup_pangan</th>\n",
       "      <th>prov</th>\n",
       "    </tr>\n",
       "  </thead>\n",
       "  <tbody>\n",
       "    <tr>\n",
       "      <th>0</th>\n",
       "      <td>2021</td>\n",
       "      <td>6.90</td>\n",
       "      <td>ACEH</td>\n",
       "    </tr>\n",
       "    <tr>\n",
       "      <th>35</th>\n",
       "      <td>2020</td>\n",
       "      <td>8.58</td>\n",
       "      <td>ACEH</td>\n",
       "    </tr>\n",
       "    <tr>\n",
       "      <th>70</th>\n",
       "      <td>2019</td>\n",
       "      <td>9.41</td>\n",
       "      <td>ACEH</td>\n",
       "    </tr>\n",
       "    <tr>\n",
       "      <th>105</th>\n",
       "      <td>2018</td>\n",
       "      <td>8.68</td>\n",
       "      <td>ACEH</td>\n",
       "    </tr>\n",
       "    <tr>\n",
       "      <th>140</th>\n",
       "      <td>2017</td>\n",
       "      <td>8.40</td>\n",
       "      <td>ACEH</td>\n",
       "    </tr>\n",
       "  </tbody>\n",
       "</table>\n",
       "</div>"
      ],
      "text/plain": [
       "     tahun  pct_tdk_cukup_pangan  prov\n",
       "0     2021                  6.90  ACEH\n",
       "35    2020                  8.58  ACEH\n",
       "70    2019                  9.41  ACEH\n",
       "105   2018                  8.68  ACEH\n",
       "140   2017                  8.40  ACEH"
      ]
     },
     "execution_count": 4,
     "metadata": {},
     "output_type": "execute_result"
    }
   ],
   "source": [
    "df_pangan.loc[df_pangan['prov'] =='ACEH']"
   ]
  },
  {
   "cell_type": "markdown",
   "id": "3175c31c",
   "metadata": {},
   "source": [
    "drop atribut tahun untuk keperluan merge"
   ]
  },
  {
   "cell_type": "code",
   "execution_count": 5,
   "id": "aa0a8d45",
   "metadata": {},
   "outputs": [],
   "source": [
    "df_pangan = df_pangan.drop([\"tahun\"], axis=1)"
   ]
  },
  {
   "cell_type": "markdown",
   "id": "fcc0fc21",
   "metadata": {},
   "source": [
    "Ubah persentase tidak cukup pangan menjadi mean untuk tiap tahunnya"
   ]
  },
  {
   "cell_type": "code",
   "execution_count": 6,
   "id": "a9933c05",
   "metadata": {},
   "outputs": [],
   "source": [
    "df_pangan[\"pct_tdk_cukup_pangan\"] = df_pangan.groupby(['prov'])['pct_tdk_cukup_pangan'].transform(\"mean\")"
   ]
  },
  {
   "cell_type": "code",
   "execution_count": 7,
   "id": "da620101",
   "metadata": {},
   "outputs": [
    {
     "data": {
      "text/html": [
       "<div>\n",
       "<style scoped>\n",
       "    .dataframe tbody tr th:only-of-type {\n",
       "        vertical-align: middle;\n",
       "    }\n",
       "\n",
       "    .dataframe tbody tr th {\n",
       "        vertical-align: top;\n",
       "    }\n",
       "\n",
       "    .dataframe thead th {\n",
       "        text-align: right;\n",
       "    }\n",
       "</style>\n",
       "<table border=\"1\" class=\"dataframe\">\n",
       "  <thead>\n",
       "    <tr style=\"text-align: right;\">\n",
       "      <th></th>\n",
       "      <th>pct_tdk_cukup_pangan</th>\n",
       "      <th>prov</th>\n",
       "    </tr>\n",
       "  </thead>\n",
       "  <tbody>\n",
       "    <tr>\n",
       "      <th>0</th>\n",
       "      <td>8.394</td>\n",
       "      <td>ACEH</td>\n",
       "    </tr>\n",
       "    <tr>\n",
       "      <th>35</th>\n",
       "      <td>8.394</td>\n",
       "      <td>ACEH</td>\n",
       "    </tr>\n",
       "    <tr>\n",
       "      <th>70</th>\n",
       "      <td>8.394</td>\n",
       "      <td>ACEH</td>\n",
       "    </tr>\n",
       "    <tr>\n",
       "      <th>105</th>\n",
       "      <td>8.394</td>\n",
       "      <td>ACEH</td>\n",
       "    </tr>\n",
       "    <tr>\n",
       "      <th>140</th>\n",
       "      <td>8.394</td>\n",
       "      <td>ACEH</td>\n",
       "    </tr>\n",
       "  </tbody>\n",
       "</table>\n",
       "</div>"
      ],
      "text/plain": [
       "     pct_tdk_cukup_pangan  prov\n",
       "0                   8.394  ACEH\n",
       "35                  8.394  ACEH\n",
       "70                  8.394  ACEH\n",
       "105                 8.394  ACEH\n",
       "140                 8.394  ACEH"
      ]
     },
     "execution_count": 7,
     "metadata": {},
     "output_type": "execute_result"
    }
   ],
   "source": [
    "df_pangan.loc[df_pangan['prov'] =='ACEH']"
   ]
  },
  {
   "cell_type": "markdown",
   "id": "5df73679",
   "metadata": {},
   "source": [
    "drop duplikat"
   ]
  },
  {
   "cell_type": "code",
   "execution_count": 8,
   "id": "a04e1bc5",
   "metadata": {},
   "outputs": [],
   "source": [
    "df_pangan = df_pangan.drop_duplicates()"
   ]
  },
  {
   "cell_type": "markdown",
   "id": "dbfe0662",
   "metadata": {},
   "source": [
    "#### Data Persentase Perempuan yang Sudah Menikah Sebelum 18 Tahun"
   ]
  },
  {
   "cell_type": "markdown",
   "id": "dae723a8",
   "metadata": {},
   "source": [
    "digunakan data persentase perempuan yang sudah menikah sebelum 18 tahun sebagai gambaran angka harapan lama sekolah dengan asumsi ketika perempuan sudah menikah sebelum usia 18 tahun sama dengan putus sekolah"
   ]
  },
  {
   "cell_type": "code",
   "execution_count": 9,
   "id": "cf3636e1",
   "metadata": {},
   "outputs": [],
   "source": [
    "df_sekolah = pd.read_csv(\"D:/Kuliah/UPI/SEMESTER 3/Data Mining dan Warehouse/UAS/proporsi_perempuan_18_24_nikah_prov.csv\")"
   ]
  },
  {
   "cell_type": "markdown",
   "id": "8628250b",
   "metadata": {},
   "source": [
    "cek data, ternyata untuk provinsi tidak hanya memiliki satu data, seperti yang terlihat pada table di bawah bahwa prov aceh memiliki 7 record data"
   ]
  },
  {
   "cell_type": "code",
   "execution_count": 10,
   "id": "6c038ea6",
   "metadata": {},
   "outputs": [
    {
     "data": {
      "text/html": [
       "<div>\n",
       "<style scoped>\n",
       "    .dataframe tbody tr th:only-of-type {\n",
       "        vertical-align: middle;\n",
       "    }\n",
       "\n",
       "    .dataframe tbody tr th {\n",
       "        vertical-align: top;\n",
       "    }\n",
       "\n",
       "    .dataframe thead th {\n",
       "        text-align: right;\n",
       "    }\n",
       "</style>\n",
       "<table border=\"1\" class=\"dataframe\">\n",
       "  <thead>\n",
       "    <tr style=\"text-align: right;\">\n",
       "      <th></th>\n",
       "      <th>prov</th>\n",
       "    </tr>\n",
       "  </thead>\n",
       "  <tbody>\n",
       "    <tr>\n",
       "      <th>count</th>\n",
       "      <td>245</td>\n",
       "    </tr>\n",
       "    <tr>\n",
       "      <th>unique</th>\n",
       "      <td>35</td>\n",
       "    </tr>\n",
       "    <tr>\n",
       "      <th>top</th>\n",
       "      <td>ACEH</td>\n",
       "    </tr>\n",
       "    <tr>\n",
       "      <th>freq</th>\n",
       "      <td>7</td>\n",
       "    </tr>\n",
       "  </tbody>\n",
       "</table>\n",
       "</div>"
      ],
      "text/plain": [
       "        prov\n",
       "count    245\n",
       "unique    35\n",
       "top     ACEH\n",
       "freq       7"
      ]
     },
     "execution_count": 10,
     "metadata": {},
     "output_type": "execute_result"
    }
   ],
   "source": [
    "df_sekolah.describe(include=('object'))"
   ]
  },
  {
   "cell_type": "markdown",
   "id": "9b258974",
   "metadata": {},
   "source": [
    "cek data dengan prov yang sama, ternyata didapatkan bahwa terdapat lebih dari satu record untuk provinsi karena perbedaan tahun dari data pct_perempuan_nikahnya, maka lakukan praproses dengan mencari rata-rata persen_anak_dengan_akte_lahir untuk tiap provinsi di semua tahunnya"
   ]
  },
  {
   "cell_type": "code",
   "execution_count": 11,
   "id": "a3386223",
   "metadata": {},
   "outputs": [
    {
     "data": {
      "text/html": [
       "<div>\n",
       "<style scoped>\n",
       "    .dataframe tbody tr th:only-of-type {\n",
       "        vertical-align: middle;\n",
       "    }\n",
       "\n",
       "    .dataframe tbody tr th {\n",
       "        vertical-align: top;\n",
       "    }\n",
       "\n",
       "    .dataframe thead th {\n",
       "        text-align: right;\n",
       "    }\n",
       "</style>\n",
       "<table border=\"1\" class=\"dataframe\">\n",
       "  <thead>\n",
       "    <tr style=\"text-align: right;\">\n",
       "      <th></th>\n",
       "      <th>tahun</th>\n",
       "      <th>pct_perempuan_nikah</th>\n",
       "      <th>prov</th>\n",
       "    </tr>\n",
       "  </thead>\n",
       "  <tbody>\n",
       "    <tr>\n",
       "      <th>0</th>\n",
       "      <td>2021</td>\n",
       "      <td>30.60</td>\n",
       "      <td>ACEH</td>\n",
       "    </tr>\n",
       "    <tr>\n",
       "      <th>35</th>\n",
       "      <td>2020</td>\n",
       "      <td>32.61</td>\n",
       "      <td>ACEH</td>\n",
       "    </tr>\n",
       "    <tr>\n",
       "      <th>70</th>\n",
       "      <td>2019</td>\n",
       "      <td>26.13</td>\n",
       "      <td>ACEH</td>\n",
       "    </tr>\n",
       "    <tr>\n",
       "      <th>105</th>\n",
       "      <td>2018</td>\n",
       "      <td>20.56</td>\n",
       "      <td>ACEH</td>\n",
       "    </tr>\n",
       "    <tr>\n",
       "      <th>140</th>\n",
       "      <td>2017</td>\n",
       "      <td>20.80</td>\n",
       "      <td>ACEH</td>\n",
       "    </tr>\n",
       "    <tr>\n",
       "      <th>175</th>\n",
       "      <td>2016</td>\n",
       "      <td>18.18</td>\n",
       "      <td>ACEH</td>\n",
       "    </tr>\n",
       "    <tr>\n",
       "      <th>210</th>\n",
       "      <td>2015</td>\n",
       "      <td>15.47</td>\n",
       "      <td>ACEH</td>\n",
       "    </tr>\n",
       "  </tbody>\n",
       "</table>\n",
       "</div>"
      ],
      "text/plain": [
       "     tahun  pct_perempuan_nikah  prov\n",
       "0     2021                30.60  ACEH\n",
       "35    2020                32.61  ACEH\n",
       "70    2019                26.13  ACEH\n",
       "105   2018                20.56  ACEH\n",
       "140   2017                20.80  ACEH\n",
       "175   2016                18.18  ACEH\n",
       "210   2015                15.47  ACEH"
      ]
     },
     "execution_count": 11,
     "metadata": {},
     "output_type": "execute_result"
    }
   ],
   "source": [
    "df_sekolah.loc[df_sekolah['prov'] =='ACEH']"
   ]
  },
  {
   "cell_type": "markdown",
   "id": "acd8c4ad",
   "metadata": {},
   "source": [
    "drop atribut tahun untuk keperluan merge"
   ]
  },
  {
   "cell_type": "code",
   "execution_count": 12,
   "id": "e6a9314f",
   "metadata": {},
   "outputs": [],
   "source": [
    "df_sekolah = df_sekolah.drop([\"tahun\"], axis=1)"
   ]
  },
  {
   "cell_type": "markdown",
   "id": "2a8dc84b",
   "metadata": {},
   "source": [
    "mengubah pct_perempuan_nikah untuk tiap provinsi menjadi rata-rata semua tahunnya"
   ]
  },
  {
   "cell_type": "code",
   "execution_count": 13,
   "id": "83f0efd3",
   "metadata": {},
   "outputs": [],
   "source": [
    "df_sekolah[\"pct_perempuan_nikah\"] = df_sekolah.groupby(['prov'])['pct_perempuan_nikah'].transform(\"mean\")"
   ]
  },
  {
   "cell_type": "markdown",
   "id": "31942c39",
   "metadata": {},
   "source": [
    "cek data, ternyata untuk pct_perempuan_nikah sudah menjadi rata-rata tetapi masih terdapat duplikasi sehingga perlu dihapus duplikasinya"
   ]
  },
  {
   "cell_type": "code",
   "execution_count": 14,
   "id": "37823c00",
   "metadata": {},
   "outputs": [
    {
     "data": {
      "text/html": [
       "<div>\n",
       "<style scoped>\n",
       "    .dataframe tbody tr th:only-of-type {\n",
       "        vertical-align: middle;\n",
       "    }\n",
       "\n",
       "    .dataframe tbody tr th {\n",
       "        vertical-align: top;\n",
       "    }\n",
       "\n",
       "    .dataframe thead th {\n",
       "        text-align: right;\n",
       "    }\n",
       "</style>\n",
       "<table border=\"1\" class=\"dataframe\">\n",
       "  <thead>\n",
       "    <tr style=\"text-align: right;\">\n",
       "      <th></th>\n",
       "      <th>pct_perempuan_nikah</th>\n",
       "      <th>prov</th>\n",
       "    </tr>\n",
       "  </thead>\n",
       "  <tbody>\n",
       "    <tr>\n",
       "      <th>0</th>\n",
       "      <td>23.478571</td>\n",
       "      <td>ACEH</td>\n",
       "    </tr>\n",
       "    <tr>\n",
       "      <th>35</th>\n",
       "      <td>23.478571</td>\n",
       "      <td>ACEH</td>\n",
       "    </tr>\n",
       "    <tr>\n",
       "      <th>70</th>\n",
       "      <td>23.478571</td>\n",
       "      <td>ACEH</td>\n",
       "    </tr>\n",
       "    <tr>\n",
       "      <th>105</th>\n",
       "      <td>23.478571</td>\n",
       "      <td>ACEH</td>\n",
       "    </tr>\n",
       "    <tr>\n",
       "      <th>140</th>\n",
       "      <td>23.478571</td>\n",
       "      <td>ACEH</td>\n",
       "    </tr>\n",
       "    <tr>\n",
       "      <th>175</th>\n",
       "      <td>23.478571</td>\n",
       "      <td>ACEH</td>\n",
       "    </tr>\n",
       "    <tr>\n",
       "      <th>210</th>\n",
       "      <td>23.478571</td>\n",
       "      <td>ACEH</td>\n",
       "    </tr>\n",
       "  </tbody>\n",
       "</table>\n",
       "</div>"
      ],
      "text/plain": [
       "     pct_perempuan_nikah  prov\n",
       "0              23.478571  ACEH\n",
       "35             23.478571  ACEH\n",
       "70             23.478571  ACEH\n",
       "105            23.478571  ACEH\n",
       "140            23.478571  ACEH\n",
       "175            23.478571  ACEH\n",
       "210            23.478571  ACEH"
      ]
     },
     "execution_count": 14,
     "metadata": {},
     "output_type": "execute_result"
    }
   ],
   "source": [
    "df_sekolah.loc[df_sekolah['prov'] =='ACEH']"
   ]
  },
  {
   "cell_type": "markdown",
   "id": "eb3a5982",
   "metadata": {},
   "source": [
    "hapus duplikasi"
   ]
  },
  {
   "cell_type": "code",
   "execution_count": 15,
   "id": "10f53738",
   "metadata": {},
   "outputs": [],
   "source": [
    "df_sekolah = df_sekolah.drop_duplicates()"
   ]
  },
  {
   "cell_type": "markdown",
   "id": "032f047c",
   "metadata": {},
   "source": [
    "cek untuk satu provinsi sekarang hanya terdapat satu record data"
   ]
  },
  {
   "cell_type": "code",
   "execution_count": 16,
   "id": "dae66d27",
   "metadata": {},
   "outputs": [
    {
     "data": {
      "text/html": [
       "<div>\n",
       "<style scoped>\n",
       "    .dataframe tbody tr th:only-of-type {\n",
       "        vertical-align: middle;\n",
       "    }\n",
       "\n",
       "    .dataframe tbody tr th {\n",
       "        vertical-align: top;\n",
       "    }\n",
       "\n",
       "    .dataframe thead th {\n",
       "        text-align: right;\n",
       "    }\n",
       "</style>\n",
       "<table border=\"1\" class=\"dataframe\">\n",
       "  <thead>\n",
       "    <tr style=\"text-align: right;\">\n",
       "      <th></th>\n",
       "      <th>pct_perempuan_nikah</th>\n",
       "      <th>prov</th>\n",
       "    </tr>\n",
       "  </thead>\n",
       "  <tbody>\n",
       "    <tr>\n",
       "      <th>0</th>\n",
       "      <td>23.478571</td>\n",
       "      <td>ACEH</td>\n",
       "    </tr>\n",
       "  </tbody>\n",
       "</table>\n",
       "</div>"
      ],
      "text/plain": [
       "   pct_perempuan_nikah  prov\n",
       "0            23.478571  ACEH"
      ]
     },
     "execution_count": 16,
     "metadata": {},
     "output_type": "execute_result"
    }
   ],
   "source": [
    "df_sekolah.loc[df_sekolah['prov'] =='ACEH']"
   ]
  },
  {
   "cell_type": "markdown",
   "id": "b3a37fb4",
   "metadata": {},
   "source": [
    "#### Data persen anak dengan akte lahir"
   ]
  },
  {
   "cell_type": "markdown",
   "id": "a2f46d99",
   "metadata": {},
   "source": [
    "digunakan data persen anak dengan akte lahir sebagai indikator perhitungan angka harapan hidup yaitu banyaknya penduduk yang mampu melewati umur tertentu, dan banyaknya penduduk yang dilahirkan hidup dari suatu generasi sampai mencapai umur tertentu."
   ]
  },
  {
   "cell_type": "code",
   "execution_count": 17,
   "id": "0db863db",
   "metadata": {},
   "outputs": [],
   "source": [
    "df_anak = pd.read_csv(\"D:/Kuliah/UPI/SEMESTER 3/Data Mining dan Warehouse/UAS/persen_anak_dengan_akte_lahir.csv\")"
   ]
  },
  {
   "cell_type": "code",
   "execution_count": 18,
   "id": "02272bc0",
   "metadata": {},
   "outputs": [
    {
     "name": "stdout",
     "output_type": "stream",
     "text": [
      "<class 'pandas.core.frame.DataFrame'>\n",
      "RangeIndex: 245 entries, 0 to 244\n",
      "Data columns (total 3 columns):\n",
      " #   Column                         Non-Null Count  Dtype  \n",
      "---  ------                         --------------  -----  \n",
      " 0   tahun                          245 non-null    int64  \n",
      " 1   persen_anak_dengan_akte_lahir  245 non-null    float64\n",
      " 2   prov                           245 non-null    object \n",
      "dtypes: float64(1), int64(1), object(1)\n",
      "memory usage: 5.9+ KB\n"
     ]
    }
   ],
   "source": [
    "df_anak.info()"
   ]
  },
  {
   "cell_type": "markdown",
   "id": "818bf5c5",
   "metadata": {},
   "source": [
    "cek data dengan prov yang sama, ternyata didapatkan bahwa terdapat prov yang sama hanya berbeda tahunnya saja, maka lakukan praproses dengan mencari rata-rata persen_anak_dengan_akte_lahir untuk tiap provinsi di semua tahunnya"
   ]
  },
  {
   "cell_type": "code",
   "execution_count": 19,
   "id": "091992e1",
   "metadata": {},
   "outputs": [
    {
     "data": {
      "text/html": [
       "<div>\n",
       "<style scoped>\n",
       "    .dataframe tbody tr th:only-of-type {\n",
       "        vertical-align: middle;\n",
       "    }\n",
       "\n",
       "    .dataframe tbody tr th {\n",
       "        vertical-align: top;\n",
       "    }\n",
       "\n",
       "    .dataframe thead th {\n",
       "        text-align: right;\n",
       "    }\n",
       "</style>\n",
       "<table border=\"1\" class=\"dataframe\">\n",
       "  <thead>\n",
       "    <tr style=\"text-align: right;\">\n",
       "      <th></th>\n",
       "      <th>tahun</th>\n",
       "      <th>persen_anak_dengan_akte_lahir</th>\n",
       "      <th>prov</th>\n",
       "    </tr>\n",
       "  </thead>\n",
       "  <tbody>\n",
       "    <tr>\n",
       "      <th>0</th>\n",
       "      <td>2021</td>\n",
       "      <td>94.52</td>\n",
       "      <td>ACEH</td>\n",
       "    </tr>\n",
       "    <tr>\n",
       "      <th>35</th>\n",
       "      <td>2020</td>\n",
       "      <td>93.84</td>\n",
       "      <td>ACEH</td>\n",
       "    </tr>\n",
       "    <tr>\n",
       "      <th>70</th>\n",
       "      <td>2019</td>\n",
       "      <td>91.22</td>\n",
       "      <td>ACEH</td>\n",
       "    </tr>\n",
       "    <tr>\n",
       "      <th>105</th>\n",
       "      <td>2018</td>\n",
       "      <td>87.85</td>\n",
       "      <td>ACEH</td>\n",
       "    </tr>\n",
       "    <tr>\n",
       "      <th>140</th>\n",
       "      <td>2017</td>\n",
       "      <td>87.83</td>\n",
       "      <td>ACEH</td>\n",
       "    </tr>\n",
       "    <tr>\n",
       "      <th>175</th>\n",
       "      <td>2016</td>\n",
       "      <td>82.18</td>\n",
       "      <td>ACEH</td>\n",
       "    </tr>\n",
       "    <tr>\n",
       "      <th>210</th>\n",
       "      <td>2015</td>\n",
       "      <td>80.89</td>\n",
       "      <td>ACEH</td>\n",
       "    </tr>\n",
       "  </tbody>\n",
       "</table>\n",
       "</div>"
      ],
      "text/plain": [
       "     tahun  persen_anak_dengan_akte_lahir  prov\n",
       "0     2021                          94.52  ACEH\n",
       "35    2020                          93.84  ACEH\n",
       "70    2019                          91.22  ACEH\n",
       "105   2018                          87.85  ACEH\n",
       "140   2017                          87.83  ACEH\n",
       "175   2016                          82.18  ACEH\n",
       "210   2015                          80.89  ACEH"
      ]
     },
     "execution_count": 19,
     "metadata": {},
     "output_type": "execute_result"
    }
   ],
   "source": [
    "df_anak.loc[df_anak['prov'] =='ACEH']"
   ]
  },
  {
   "cell_type": "markdown",
   "id": "80f92eac",
   "metadata": {},
   "source": [
    "drop atribut tahun untuk keperluan merge"
   ]
  },
  {
   "cell_type": "code",
   "execution_count": 20,
   "id": "e1b4e86a",
   "metadata": {},
   "outputs": [],
   "source": [
    "df_anak = df_anak.drop([\"tahun\"], axis=1)"
   ]
  },
  {
   "cell_type": "markdown",
   "id": "7be99b82",
   "metadata": {},
   "source": [
    "mengubah persen_anak_dengan_akte_lahir untuk tiap provinsi menjadi rata-rata semua tahunnya"
   ]
  },
  {
   "cell_type": "code",
   "execution_count": 21,
   "id": "f66f8b2c",
   "metadata": {},
   "outputs": [],
   "source": [
    "df_anak[\"persen_anak_dengan_akte_lahir\"] = df_anak.groupby(['prov'])['persen_anak_dengan_akte_lahir'].transform(\"mean\")"
   ]
  },
  {
   "cell_type": "markdown",
   "id": "97b13a6e",
   "metadata": {},
   "source": [
    "drop duplikasi"
   ]
  },
  {
   "cell_type": "code",
   "execution_count": 22,
   "id": "841e8981",
   "metadata": {},
   "outputs": [],
   "source": [
    "df_anak = df_anak.drop_duplicates()"
   ]
  },
  {
   "cell_type": "markdown",
   "id": "46f4d6d8",
   "metadata": {},
   "source": [
    "cek untuk satu provinsi sekarang hanya terdapat satu data persen_anak_dengan_akte_lahir"
   ]
  },
  {
   "cell_type": "code",
   "execution_count": 23,
   "id": "7831cdad",
   "metadata": {},
   "outputs": [
    {
     "data": {
      "text/html": [
       "<div>\n",
       "<style scoped>\n",
       "    .dataframe tbody tr th:only-of-type {\n",
       "        vertical-align: middle;\n",
       "    }\n",
       "\n",
       "    .dataframe tbody tr th {\n",
       "        vertical-align: top;\n",
       "    }\n",
       "\n",
       "    .dataframe thead th {\n",
       "        text-align: right;\n",
       "    }\n",
       "</style>\n",
       "<table border=\"1\" class=\"dataframe\">\n",
       "  <thead>\n",
       "    <tr style=\"text-align: right;\">\n",
       "      <th></th>\n",
       "      <th>persen_anak_dengan_akte_lahir</th>\n",
       "      <th>prov</th>\n",
       "    </tr>\n",
       "  </thead>\n",
       "  <tbody>\n",
       "    <tr>\n",
       "      <th>0</th>\n",
       "      <td>88.332857</td>\n",
       "      <td>ACEH</td>\n",
       "    </tr>\n",
       "  </tbody>\n",
       "</table>\n",
       "</div>"
      ],
      "text/plain": [
       "   persen_anak_dengan_akte_lahir  prov\n",
       "0                      88.332857  ACEH"
      ]
     },
     "execution_count": 23,
     "metadata": {},
     "output_type": "execute_result"
    }
   ],
   "source": [
    "df_anak.loc[df_anak['prov'] =='ACEH']"
   ]
  },
  {
   "cell_type": "markdown",
   "id": "2b71aaf2",
   "metadata": {},
   "source": [
    "menggunakan data PMI sebagai data yang nanti akan diprediksi"
   ]
  },
  {
   "cell_type": "code",
   "execution_count": 24,
   "id": "84171aec",
   "metadata": {},
   "outputs": [],
   "source": [
    "df_pmi = pd.read_csv(\"D:/Kuliah/UPI/SEMESTER 3/Data Mining dan Warehouse/UAS/pmi.csv\")"
   ]
  },
  {
   "cell_type": "code",
   "execution_count": 25,
   "id": "3de4800c",
   "metadata": {},
   "outputs": [
    {
     "name": "stdout",
     "output_type": "stream",
     "text": [
      "<class 'pandas.core.frame.DataFrame'>\n",
      "RangeIndex: 442 entries, 0 to 441\n",
      "Data columns (total 3 columns):\n",
      " #   Column        Non-Null Count  Dtype \n",
      "---  ------        --------------  ----- \n",
      " 0   prov          442 non-null    object\n",
      " 1   tahun         442 non-null    int64 \n",
      " 2   kategori_pmi  442 non-null    object\n",
      "dtypes: int64(1), object(2)\n",
      "memory usage: 10.5+ KB\n"
     ]
    }
   ],
   "source": [
    "df_pmi.info()"
   ]
  },
  {
   "cell_type": "markdown",
   "id": "679719bd",
   "metadata": {},
   "source": [
    "cek ada kategori apa saja pada atribut kategori_pmi"
   ]
  },
  {
   "cell_type": "code",
   "execution_count": 26,
   "id": "2f62d9da",
   "metadata": {},
   "outputs": [
    {
     "data": {
      "text/plain": [
       "array(['TINGGI', 'SANGAT TINGGI', 'SEDANG', 'SANGAT RENDAH'], dtype=object)"
      ]
     },
     "execution_count": 26,
     "metadata": {},
     "output_type": "execute_result"
    }
   ],
   "source": [
    "df_pmi['kategori_pmi'].unique()"
   ]
  },
  {
   "cell_type": "markdown",
   "id": "40bd886a",
   "metadata": {},
   "source": [
    "ubah atribut kategori_pmi menjadi integer untuk kerpeluan melihat korelasi"
   ]
  },
  {
   "cell_type": "code",
   "execution_count": 27,
   "id": "dfc631f1",
   "metadata": {},
   "outputs": [],
   "source": [
    "df_pmi['kategori_pmi'].replace({'SANGAT RENDAH':0,'SEDANG':1,'TINGGI':2,'SANGAT TINGGI':3}, inplace=True)"
   ]
  },
  {
   "cell_type": "code",
   "execution_count": 28,
   "id": "d7a5e0a4",
   "metadata": {},
   "outputs": [
    {
     "name": "stdout",
     "output_type": "stream",
     "text": [
      "<class 'pandas.core.frame.DataFrame'>\n",
      "RangeIndex: 442 entries, 0 to 441\n",
      "Data columns (total 3 columns):\n",
      " #   Column        Non-Null Count  Dtype \n",
      "---  ------        --------------  ----- \n",
      " 0   prov          442 non-null    object\n",
      " 1   tahun         442 non-null    int64 \n",
      " 2   kategori_pmi  442 non-null    int64 \n",
      "dtypes: int64(2), object(1)\n",
      "memory usage: 10.5+ KB\n"
     ]
    }
   ],
   "source": [
    "df_pmi.info()"
   ]
  },
  {
   "cell_type": "markdown",
   "id": "f6815803",
   "metadata": {},
   "source": [
    "#### Data rumah menyewa"
   ]
  },
  {
   "cell_type": "markdown",
   "id": "e2843a33",
   "metadata": {},
   "source": [
    "Data persen rumah menyewa sebagai acuan standar hidup layak"
   ]
  },
  {
   "cell_type": "code",
   "execution_count": 29,
   "id": "8da9c74c",
   "metadata": {},
   "outputs": [],
   "source": [
    "df_rumah = pd.read_csv(\"D:/Kuliah/UPI/SEMESTER 3/Data Mining dan Warehouse/UAS/persen_rumah_menyewa.csv\")"
   ]
  },
  {
   "cell_type": "code",
   "execution_count": 30,
   "id": "96db8dbb",
   "metadata": {},
   "outputs": [
    {
     "name": "stdout",
     "output_type": "stream",
     "text": [
      "<class 'pandas.core.frame.DataFrame'>\n",
      "RangeIndex: 245 entries, 0 to 244\n",
      "Data columns (total 3 columns):\n",
      " #   Column                Non-Null Count  Dtype  \n",
      "---  ------                --------------  -----  \n",
      " 0   tahun                 245 non-null    int64  \n",
      " 1   persen_rumah_menyewa  245 non-null    float64\n",
      " 2   prov                  245 non-null    object \n",
      "dtypes: float64(1), int64(1), object(1)\n",
      "memory usage: 5.9+ KB\n"
     ]
    }
   ],
   "source": [
    "df_rumah.info()"
   ]
  },
  {
   "cell_type": "code",
   "execution_count": 31,
   "id": "6d4e016b",
   "metadata": {},
   "outputs": [
    {
     "data": {
      "text/html": [
       "<div>\n",
       "<style scoped>\n",
       "    .dataframe tbody tr th:only-of-type {\n",
       "        vertical-align: middle;\n",
       "    }\n",
       "\n",
       "    .dataframe tbody tr th {\n",
       "        vertical-align: top;\n",
       "    }\n",
       "\n",
       "    .dataframe thead th {\n",
       "        text-align: right;\n",
       "    }\n",
       "</style>\n",
       "<table border=\"1\" class=\"dataframe\">\n",
       "  <thead>\n",
       "    <tr style=\"text-align: right;\">\n",
       "      <th></th>\n",
       "      <th>prov</th>\n",
       "    </tr>\n",
       "  </thead>\n",
       "  <tbody>\n",
       "    <tr>\n",
       "      <th>count</th>\n",
       "      <td>245</td>\n",
       "    </tr>\n",
       "    <tr>\n",
       "      <th>unique</th>\n",
       "      <td>35</td>\n",
       "    </tr>\n",
       "    <tr>\n",
       "      <th>top</th>\n",
       "      <td>ACEH</td>\n",
       "    </tr>\n",
       "    <tr>\n",
       "      <th>freq</th>\n",
       "      <td>7</td>\n",
       "    </tr>\n",
       "  </tbody>\n",
       "</table>\n",
       "</div>"
      ],
      "text/plain": [
       "        prov\n",
       "count    245\n",
       "unique    35\n",
       "top     ACEH\n",
       "freq       7"
      ]
     },
     "execution_count": 31,
     "metadata": {},
     "output_type": "execute_result"
    }
   ],
   "source": [
    "df_rumah.describe(include=('object'))"
   ]
  },
  {
   "cell_type": "code",
   "execution_count": 32,
   "id": "856c0f58",
   "metadata": {},
   "outputs": [],
   "source": [
    "df_rumah = df_rumah.drop([\"tahun\"], axis=1)"
   ]
  },
  {
   "cell_type": "code",
   "execution_count": 33,
   "id": "ebd2f81e",
   "metadata": {},
   "outputs": [],
   "source": [
    "df_rumah[\"persen_rumah_menyewa\"] = df_rumah.groupby(['prov'])['persen_rumah_menyewa'].transform(\"mean\")"
   ]
  },
  {
   "cell_type": "code",
   "execution_count": 34,
   "id": "c2bffb2a",
   "metadata": {},
   "outputs": [],
   "source": [
    "df_rumah = df_rumah.drop_duplicates()"
   ]
  },
  {
   "cell_type": "code",
   "execution_count": 35,
   "id": "120f733a",
   "metadata": {},
   "outputs": [
    {
     "data": {
      "text/html": [
       "<div>\n",
       "<style scoped>\n",
       "    .dataframe tbody tr th:only-of-type {\n",
       "        vertical-align: middle;\n",
       "    }\n",
       "\n",
       "    .dataframe tbody tr th {\n",
       "        vertical-align: top;\n",
       "    }\n",
       "\n",
       "    .dataframe thead th {\n",
       "        text-align: right;\n",
       "    }\n",
       "</style>\n",
       "<table border=\"1\" class=\"dataframe\">\n",
       "  <thead>\n",
       "    <tr style=\"text-align: right;\">\n",
       "      <th></th>\n",
       "      <th>prov</th>\n",
       "    </tr>\n",
       "  </thead>\n",
       "  <tbody>\n",
       "    <tr>\n",
       "      <th>count</th>\n",
       "      <td>35</td>\n",
       "    </tr>\n",
       "    <tr>\n",
       "      <th>unique</th>\n",
       "      <td>35</td>\n",
       "    </tr>\n",
       "    <tr>\n",
       "      <th>top</th>\n",
       "      <td>ACEH</td>\n",
       "    </tr>\n",
       "    <tr>\n",
       "      <th>freq</th>\n",
       "      <td>1</td>\n",
       "    </tr>\n",
       "  </tbody>\n",
       "</table>\n",
       "</div>"
      ],
      "text/plain": [
       "        prov\n",
       "count     35\n",
       "unique    35\n",
       "top     ACEH\n",
       "freq       1"
      ]
     },
     "execution_count": 35,
     "metadata": {},
     "output_type": "execute_result"
    }
   ],
   "source": [
    "df_rumah.describe(include=('object'))"
   ]
  },
  {
   "cell_type": "markdown",
   "id": "e95be2d0",
   "metadata": {},
   "source": [
    "#### Proses Merge"
   ]
  },
  {
   "cell_type": "markdown",
   "id": "922a4213",
   "metadata": {},
   "source": [
    "merge PMI dengan data akte anak"
   ]
  },
  {
   "cell_type": "code",
   "execution_count": 36,
   "id": "f513c241",
   "metadata": {},
   "outputs": [],
   "source": [
    "df_temp = pd.merge(df_pmi, df_anak, on = 'prov', how = 'left')"
   ]
  },
  {
   "cell_type": "code",
   "execution_count": 37,
   "id": "b1842b8c",
   "metadata": {},
   "outputs": [
    {
     "data": {
      "text/html": [
       "<div>\n",
       "<style scoped>\n",
       "    .dataframe tbody tr th:only-of-type {\n",
       "        vertical-align: middle;\n",
       "    }\n",
       "\n",
       "    .dataframe tbody tr th {\n",
       "        vertical-align: top;\n",
       "    }\n",
       "\n",
       "    .dataframe thead th {\n",
       "        text-align: right;\n",
       "    }\n",
       "</style>\n",
       "<table border=\"1\" class=\"dataframe\">\n",
       "  <thead>\n",
       "    <tr style=\"text-align: right;\">\n",
       "      <th></th>\n",
       "      <th>prov</th>\n",
       "      <th>tahun</th>\n",
       "      <th>kategori_pmi</th>\n",
       "      <th>persen_anak_dengan_akte_lahir</th>\n",
       "    </tr>\n",
       "  </thead>\n",
       "  <tbody>\n",
       "    <tr>\n",
       "      <th>0</th>\n",
       "      <td>ACEH</td>\n",
       "      <td>2022</td>\n",
       "      <td>2</td>\n",
       "      <td>88.332857</td>\n",
       "    </tr>\n",
       "    <tr>\n",
       "      <th>1</th>\n",
       "      <td>SUMATERA UTARA</td>\n",
       "      <td>2022</td>\n",
       "      <td>2</td>\n",
       "      <td>74.298571</td>\n",
       "    </tr>\n",
       "    <tr>\n",
       "      <th>2</th>\n",
       "      <td>SUMATERA BARAT</td>\n",
       "      <td>2022</td>\n",
       "      <td>2</td>\n",
       "      <td>83.928571</td>\n",
       "    </tr>\n",
       "    <tr>\n",
       "      <th>3</th>\n",
       "      <td>RIAU</td>\n",
       "      <td>2022</td>\n",
       "      <td>2</td>\n",
       "      <td>78.497143</td>\n",
       "    </tr>\n",
       "    <tr>\n",
       "      <th>4</th>\n",
       "      <td>JAMBI</td>\n",
       "      <td>2022</td>\n",
       "      <td>2</td>\n",
       "      <td>91.507143</td>\n",
       "    </tr>\n",
       "  </tbody>\n",
       "</table>\n",
       "</div>"
      ],
      "text/plain": [
       "             prov  tahun  kategori_pmi  persen_anak_dengan_akte_lahir\n",
       "0            ACEH   2022             2                      88.332857\n",
       "1  SUMATERA UTARA   2022             2                      74.298571\n",
       "2  SUMATERA BARAT   2022             2                      83.928571\n",
       "3            RIAU   2022             2                      78.497143\n",
       "4           JAMBI   2022             2                      91.507143"
      ]
     },
     "execution_count": 37,
     "metadata": {},
     "output_type": "execute_result"
    }
   ],
   "source": [
    "df_temp.head()"
   ]
  },
  {
   "cell_type": "code",
   "execution_count": 38,
   "id": "ccb83aac",
   "metadata": {},
   "outputs": [
    {
     "name": "stdout",
     "output_type": "stream",
     "text": [
      "<class 'pandas.core.frame.DataFrame'>\n",
      "Int64Index: 442 entries, 0 to 441\n",
      "Data columns (total 4 columns):\n",
      " #   Column                         Non-Null Count  Dtype  \n",
      "---  ------                         --------------  -----  \n",
      " 0   prov                           442 non-null    object \n",
      " 1   tahun                          442 non-null    int64  \n",
      " 2   kategori_pmi                   442 non-null    int64  \n",
      " 3   persen_anak_dengan_akte_lahir  442 non-null    float64\n",
      "dtypes: float64(1), int64(2), object(1)\n",
      "memory usage: 17.3+ KB\n"
     ]
    }
   ],
   "source": [
    "df_temp.info()"
   ]
  },
  {
   "cell_type": "markdown",
   "id": "f2899d32",
   "metadata": {},
   "source": [
    "Merge lagi dengan data perempuan sudah menikah"
   ]
  },
  {
   "cell_type": "code",
   "execution_count": 39,
   "id": "4d8a5f2a",
   "metadata": {},
   "outputs": [],
   "source": [
    "df_temp2 = pd.merge(df_temp, df_sekolah, on = 'prov', how = 'left')"
   ]
  },
  {
   "cell_type": "code",
   "execution_count": 40,
   "id": "4330833b",
   "metadata": {},
   "outputs": [
    {
     "name": "stdout",
     "output_type": "stream",
     "text": [
      "<class 'pandas.core.frame.DataFrame'>\n",
      "Int64Index: 442 entries, 0 to 441\n",
      "Data columns (total 5 columns):\n",
      " #   Column                         Non-Null Count  Dtype  \n",
      "---  ------                         --------------  -----  \n",
      " 0   prov                           442 non-null    object \n",
      " 1   tahun                          442 non-null    int64  \n",
      " 2   kategori_pmi                   442 non-null    int64  \n",
      " 3   persen_anak_dengan_akte_lahir  442 non-null    float64\n",
      " 4   pct_perempuan_nikah            442 non-null    float64\n",
      "dtypes: float64(2), int64(2), object(1)\n",
      "memory usage: 20.7+ KB\n"
     ]
    }
   ],
   "source": [
    "df_temp2.info()"
   ]
  },
  {
   "cell_type": "markdown",
   "id": "9c940d23",
   "metadata": {},
   "source": [
    "Merge lagi dengan data pangan"
   ]
  },
  {
   "cell_type": "code",
   "execution_count": 41,
   "id": "5ab1fe41",
   "metadata": {},
   "outputs": [],
   "source": [
    "df_temp3 = pd.merge(df_temp2, df_pangan, on = 'prov', how = 'left')"
   ]
  },
  {
   "cell_type": "code",
   "execution_count": 42,
   "id": "39830665",
   "metadata": {},
   "outputs": [
    {
     "name": "stdout",
     "output_type": "stream",
     "text": [
      "<class 'pandas.core.frame.DataFrame'>\n",
      "Int64Index: 442 entries, 0 to 441\n",
      "Data columns (total 6 columns):\n",
      " #   Column                         Non-Null Count  Dtype  \n",
      "---  ------                         --------------  -----  \n",
      " 0   prov                           442 non-null    object \n",
      " 1   tahun                          442 non-null    int64  \n",
      " 2   kategori_pmi                   442 non-null    int64  \n",
      " 3   persen_anak_dengan_akte_lahir  442 non-null    float64\n",
      " 4   pct_perempuan_nikah            442 non-null    float64\n",
      " 5   pct_tdk_cukup_pangan           442 non-null    float64\n",
      "dtypes: float64(3), int64(2), object(1)\n",
      "memory usage: 24.2+ KB\n"
     ]
    }
   ],
   "source": [
    "df_temp3.info()"
   ]
  },
  {
   "cell_type": "markdown",
   "id": "e728ff4c",
   "metadata": {},
   "source": [
    "Merge lagi dengan data rumah menyewa"
   ]
  },
  {
   "cell_type": "code",
   "execution_count": 43,
   "id": "b0aa6da5",
   "metadata": {},
   "outputs": [],
   "source": [
    "df_final = pd.merge(df_temp3, df_rumah, on = 'prov', how = 'left')"
   ]
  },
  {
   "cell_type": "code",
   "execution_count": 44,
   "id": "7e7c8322",
   "metadata": {},
   "outputs": [
    {
     "name": "stdout",
     "output_type": "stream",
     "text": [
      "<class 'pandas.core.frame.DataFrame'>\n",
      "Int64Index: 442 entries, 0 to 441\n",
      "Data columns (total 7 columns):\n",
      " #   Column                         Non-Null Count  Dtype  \n",
      "---  ------                         --------------  -----  \n",
      " 0   prov                           442 non-null    object \n",
      " 1   tahun                          442 non-null    int64  \n",
      " 2   kategori_pmi                   442 non-null    int64  \n",
      " 3   persen_anak_dengan_akte_lahir  442 non-null    float64\n",
      " 4   pct_perempuan_nikah            442 non-null    float64\n",
      " 5   pct_tdk_cukup_pangan           442 non-null    float64\n",
      " 6   persen_rumah_menyewa           442 non-null    float64\n",
      "dtypes: float64(4), int64(2), object(1)\n",
      "memory usage: 27.6+ KB\n"
     ]
    }
   ],
   "source": [
    "df_final.info()"
   ]
  },
  {
   "cell_type": "markdown",
   "id": "b1560045",
   "metadata": {},
   "source": [
    "cek korelasi antar data terutama terhadap atribut kategori_pmi, dapat dilihat bahwa persen rumah menyewa memiliki koralesi positif terbesar terhadap kategori pmi berbanding terbalik dengan persentase tidak cukup pangan yang berkorelasi negatif"
   ]
  },
  {
   "cell_type": "code",
   "execution_count": 45,
   "id": "12e6392b",
   "metadata": {},
   "outputs": [
    {
     "data": {
      "text/plain": [
       "<AxesSubplot:>"
      ]
     },
     "execution_count": 45,
     "metadata": {},
     "output_type": "execute_result"
    },
    {
     "data": {
      "image/png": "[encoded data removed]",
      "text/plain": [
       "<Figure size 720x720 with 2 Axes>"
      ]
     },
     "metadata": {
      "needs_background": "light"
     },
     "output_type": "display_data"
    }
   ],
   "source": [
    "fig, ax = plt.subplots(figsize = (10,10))\n",
    "sns.heatmap(df_final.corr(), annot = True, ax=ax)"
   ]
  },
  {
   "cell_type": "markdown",
   "id": "98271ea1",
   "metadata": {},
   "source": [
    "### Pembuatan Model"
   ]
  },
  {
   "cell_type": "code",
   "execution_count": 46,
   "id": "e9ffc68e",
   "metadata": {},
   "outputs": [
    {
     "name": "stdout",
     "output_type": "stream",
     "text": [
      "<class 'pandas.core.frame.DataFrame'>\n",
      "Int64Index: 442 entries, 0 to 441\n",
      "Data columns (total 7 columns):\n",
      " #   Column                         Non-Null Count  Dtype  \n",
      "---  ------                         --------------  -----  \n",
      " 0   prov                           442 non-null    object \n",
      " 1   tahun                          442 non-null    int64  \n",
      " 2   kategori_pmi                   442 non-null    int64  \n",
      " 3   persen_anak_dengan_akte_lahir  442 non-null    float64\n",
      " 4   pct_perempuan_nikah            442 non-null    float64\n",
      " 5   pct_tdk_cukup_pangan           442 non-null    float64\n",
      " 6   persen_rumah_menyewa           442 non-null    float64\n",
      "dtypes: float64(4), int64(2), object(1)\n",
      "memory usage: 27.6+ KB\n"
     ]
    }
   ],
   "source": [
    "df_final.info()"
   ]
  },
  {
   "cell_type": "markdown",
   "id": "8d0c40ce",
   "metadata": {},
   "source": [
    "drop atribut prov dan tahun "
   ]
  },
  {
   "cell_type": "code",
   "execution_count": 47,
   "id": "17bee90b",
   "metadata": {},
   "outputs": [],
   "source": [
    "df_final = df_final.drop([\"prov\", \"tahun\"], axis = 1)"
   ]
  },
  {
   "cell_type": "code",
   "execution_count": 48,
   "id": "00be2ff4",
   "metadata": {},
   "outputs": [
    {
     "name": "stdout",
     "output_type": "stream",
     "text": [
      "<class 'pandas.core.frame.DataFrame'>\n",
      "Int64Index: 442 entries, 0 to 441\n",
      "Data columns (total 5 columns):\n",
      " #   Column                         Non-Null Count  Dtype  \n",
      "---  ------                         --------------  -----  \n",
      " 0   kategori_pmi                   442 non-null    int64  \n",
      " 1   persen_anak_dengan_akte_lahir  442 non-null    float64\n",
      " 2   pct_perempuan_nikah            442 non-null    float64\n",
      " 3   pct_tdk_cukup_pangan           442 non-null    float64\n",
      " 4   persen_rumah_menyewa           442 non-null    float64\n",
      "dtypes: float64(4), int64(1)\n",
      "memory usage: 20.7 KB\n"
     ]
    }
   ],
   "source": [
    "df_final.info()"
   ]
  },
  {
   "cell_type": "markdown",
   "id": "3e573a97",
   "metadata": {},
   "source": [
    "membuat label untuk data target"
   ]
  },
  {
   "cell_type": "code",
   "execution_count": 49,
   "id": "9c63f1a2",
   "metadata": {},
   "outputs": [],
   "source": [
    "from sklearn import preprocessing\n",
    "le = preprocessing.LabelEncoder()\n",
    "le.fit(df_final[\"kategori_pmi\"])\n",
    "Y = le.transform(df_final[\"kategori_pmi\"]) "
   ]
  },
  {
   "cell_type": "markdown",
   "id": "a7ee24cc",
   "metadata": {},
   "source": [
    "hapus data target pada dataset"
   ]
  },
  {
   "cell_type": "code",
   "execution_count": 50,
   "id": "0f0f2ea9",
   "metadata": {},
   "outputs": [],
   "source": [
    "X = df_final.drop(\"kategori_pmi\",axis=1)"
   ]
  },
  {
   "cell_type": "markdown",
   "id": "0d33a3c3",
   "metadata": {},
   "source": [
    "split data antara data train dan data test (80% data train, 20% data test)"
   ]
  },
  {
   "cell_type": "code",
   "execution_count": 51,
   "id": "0bc220ab",
   "metadata": {},
   "outputs": [],
   "source": [
    "from sklearn.model_selection import train_test_split\n",
    "X_train,X_test,Y_train,Y_test=train_test_split(X,Y,test_size=0.2,random_state=123)"
   ]
  },
  {
   "cell_type": "markdown",
   "id": "e00d54db",
   "metadata": {},
   "source": [
    "Dilakukan pembuatan model dengan menggunakan random forest"
   ]
  },
  {
   "cell_type": "code",
   "execution_count": 54,
   "id": "6954e3ea",
   "metadata": {},
   "outputs": [
    {
     "name": "stdout",
     "output_type": "stream",
     "text": [
      "Akurasi 0.651685393258427\n",
      "              precision    recall  f1-score   support\n",
      "\n",
      "           0       0.33      0.50      0.40         2\n",
      "           1       0.73      0.76      0.75        54\n",
      "           2       0.57      0.50      0.53        32\n",
      "           3       0.00      0.00      0.00         1\n",
      "\n",
      "    accuracy                           0.65        89\n",
      "   macro avg       0.41      0.44      0.42        89\n",
      "weighted avg       0.66      0.65      0.65        89\n",
      "\n"
     ]
    }
   ],
   "source": [
    "from sklearn.ensemble import RandomForestClassifier\n",
    "from sklearn.metrics import classification_report\n",
    "from sklearn.metrics import accuracy_score\n",
    "clf = RandomForestClassifier(n_estimators=100, random_state=123, max_depth=10)\n",
    "clf.fit(X_train, Y_train)\n",
    "Y_pred = clf.predict(X_test)\n",
    "acc = accuracy_score(Y_test, Y_pred)\n",
    "print(\"Akurasi {}\".format(acc))\n",
    "print(classification_report(Y_test, Y_pred))"
   ]
  },
  {
   "cell_type": "markdown",
   "id": "d80203ca",
   "metadata": {},
   "source": [
    "Seperti yang terlihat pada hasil pembuatan model di atas didapatkan f1-score untuk PMI pada kelas Sangat Rendah (0) adalah sebesar 0.40 dan pada kelas Rendah (1) sebesar 0.75"
   ]
  },
  {
   "cell_type": "markdown",
   "id": "577255cc",
   "metadata": {},
   "source": [
    "Selanjutnya mencoba membuat model menggunakan XgBoost"
   ]
  },
  {
   "cell_type": "code",
   "execution_count": 56,
   "id": "c4986524",
   "metadata": {},
   "outputs": [
    {
     "name": "stdout",
     "output_type": "stream",
     "text": [
      "Akurasi 0.6629213483146067\n",
      "              precision    recall  f1-score   support\n",
      "\n",
      "           0       0.33      0.50      0.40         2\n",
      "           1       0.72      0.81      0.77        54\n",
      "           2       0.61      0.44      0.51        32\n",
      "           3       0.00      0.00      0.00         1\n",
      "\n",
      "    accuracy                           0.66        89\n",
      "   macro avg       0.42      0.44      0.42        89\n",
      "weighted avg       0.66      0.66      0.66        89\n",
      "\n"
     ]
    }
   ],
   "source": [
    "import xgboost as xgb\n",
    "#clf4 = xgb.XGBClassifier(objective = \"binary:logistic\", eval_metric = \"mlogloss\", max_depth = 24, gamma=0.1, subsample = 0.90,learning_rate=0.01, n_estimators = 10, nthread=-1)\n",
    "clf2=xgb.XGBClassifier(max_depth=10, learning_rate=0.1, gamma=0.1, n_estimators=100, objective='binary:logistic', booster='dart', colsample_bytree=0.7, colsample_bylevel=0.8, colsample_bynode=0.8, normalize_type='forest', sample_type='weighted', tree_method='gpu_hist', sampling_method='gradient_based')\n",
    "# num_class adalah jumlah kelas\n",
    "clf2.fit(X_train, Y_train)\n",
    "Y_pred = clf2.predict(X_test)\n",
    "acc = accuracy_score(Y_test, Y_pred)\n",
    "print(\"Akurasi {}\".format(acc))\n",
    "print(classification_report(Y_test, Y_pred))"
   ]
  },
  {
   "cell_type": "markdown",
   "id": "e5682485",
   "metadata": {},
   "source": [
    "Didapatkan hasil yang lebih baik daripada menggunakan random forest dengan score acuraccy keseluruhan 0.66, terlihat peningkatan pada f1-score untuk PMI pada kelas Rendah (1) menjadi 0.77 yang sebelumnya 0.75"
   ]
  },
  {
   "cell_type": "code",
   "execution_count": 57,
   "id": "63f3bd3d",
   "metadata": {},
   "outputs": [
    {
     "data": {
      "text/html": [
       "<div>\n",
       "<style scoped>\n",
       "    .dataframe tbody tr th:only-of-type {\n",
       "        vertical-align: middle;\n",
       "    }\n",
       "\n",
       "    .dataframe tbody tr th {\n",
       "        vertical-align: top;\n",
       "    }\n",
       "\n",
       "    .dataframe thead th {\n",
       "        text-align: right;\n",
       "    }\n",
       "</style>\n",
       "<table border=\"1\" class=\"dataframe\">\n",
       "  <thead>\n",
       "    <tr style=\"text-align: right;\">\n",
       "      <th></th>\n",
       "      <th>importance</th>\n",
       "    </tr>\n",
       "  </thead>\n",
       "  <tbody>\n",
       "    <tr>\n",
       "      <th>persen_anak_dengan_akte_lahir</th>\n",
       "      <td>0.293500</td>\n",
       "    </tr>\n",
       "    <tr>\n",
       "      <th>pct_tdk_cukup_pangan</th>\n",
       "      <td>0.290854</td>\n",
       "    </tr>\n",
       "    <tr>\n",
       "      <th>persen_rumah_menyewa</th>\n",
       "      <td>0.265881</td>\n",
       "    </tr>\n",
       "    <tr>\n",
       "      <th>pct_perempuan_nikah</th>\n",
       "      <td>0.149766</td>\n",
       "    </tr>\n",
       "  </tbody>\n",
       "</table>\n",
       "</div>"
      ],
      "text/plain": [
       "                               importance\n",
       "persen_anak_dengan_akte_lahir    0.293500\n",
       "pct_tdk_cukup_pangan             0.290854\n",
       "persen_rumah_menyewa             0.265881\n",
       "pct_perempuan_nikah              0.149766"
      ]
     },
     "execution_count": 57,
     "metadata": {},
     "output_type": "execute_result"
    }
   ],
   "source": [
    "feature_importances = pd.DataFrame(clf2.feature_importances_,index = X_train.columns, columns=['importance']).sort_values('importance',ascending=False)\n",
    "feature_importances"
   ]
  },
  {
   "cell_type": "markdown",
   "id": "aecb72a3",
   "metadata": {},
   "source": [
    "Setelah dilihat fiture importance nya didapatkan bahwa atribut persen anak dengan akte lahir yang paling berpengaruh, tidak sejalan dengan korelasi pada heatmap di atas bahwa persen rumah sewa lah yang paling berkorelasi"
   ]
  }
 ],
 "metadata": {
  "kernelspec": {
   "display_name": "Python 3 (ipykernel)",
   "language": "python",
   "name": "python3"
  },
  "language_info": {
   "codemirror_mode": {
    "name": "ipython",
    "version": 3
   },
   "file_extension": ".py",
   "mimetype": "text/x-python",
   "name": "python",
   "nbconvert_exporter": "python",
   "pygments_lexer": "ipython3",
   "version": "3.9.12"
  }
 },
 "nbformat": 4,
 "nbformat_minor": 5
}
